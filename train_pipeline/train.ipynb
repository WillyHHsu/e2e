{
 "cells": [
  {
   "cell_type": "code",
   "execution_count": 46,
   "metadata": {},
   "outputs": [],
   "source": [
    "import pandas as pd\n",
    "import joblib\n",
    "from datetime import datetime\n",
    "\n",
    "from sklearn.ensemble import RandomForestClassifier\n",
    "from sklearn.model_selection import GridSearchCV \n",
    "from sklearn.pipeline import Pipeline"
   ]
  },
  {
   "cell_type": "code",
   "execution_count": 5,
   "metadata": {},
   "outputs": [],
   "source": [
    "pd.read_csv('iris.csv')\n",
    "iris =pd.read_csv(\"iris.csv\", header=None)\n",
    "iris.columns=['sepal_length','sepal_width','petal_length','petal_width','species']\n",
    "\n",
    "x=iris[['sepal_length', 'sepal_width', 'petal_length', 'petal_width']]\n",
    "y=iris['species'] "
   ]
  },
  {
   "cell_type": "code",
   "execution_count": 6,
   "metadata": {},
   "outputs": [],
   "source": [
    "pipeline = Pipeline([\n",
    "        ('randomforestclassifier', RandomForestClassifier())\n",
    "])\n",
    "\n",
    "params = {\n",
    "        'randomforestclassifier__criterion': [\"gini\",\"entropy\"]\n",
    "        ,'randomforestclassifier__max_features':['auto', 'sqrt', 'log2']\n",
    "        ,'randomforestclassifier__max_depth': [None, 8, 9,10, 20, 30 ] \n",
    "        ,'randomforestclassifier__min_samples_leaf': [None,3, 5,10 ]\n",
    "         ,'randomforestclassifier__n_estimators':[20,60,70,80, 100, 120]}\n",
    "\n",
    "grid = GridSearchCV(estimator=pipeline, param_grid=params\n",
    "                    ,n_jobs= -1,scoring='accuracy')\n",
    "grid=grid.fit(x,y)"
   ]
  },
  {
   "cell_type": "code",
   "execution_count": 104,
   "metadata": {},
   "outputs": [
    {
     "data": {
      "text/plain": [
       "{'randomforestclassifier__criterion': 'entropy',\n",
       " 'randomforestclassifier__max_depth': 20,\n",
       " 'randomforestclassifier__max_features': 'log2',\n",
       " 'randomforestclassifier__min_samples_leaf': 5,\n",
       " 'randomforestclassifier__n_estimators': 20,\n",
       " 'best_score_': 0.9733333333333334,\n",
       " 'dtime': '13-12-2020',\n",
       " 'model': 'randomforestclassifier'}"
      ]
     },
     "execution_count": 104,
     "metadata": {},
     "output_type": "execute_result"
    }
   ],
   "source": []
  },
  {
   "cell_type": "code",
   "execution_count": 47,
   "metadata": {},
   "outputs": [
    {
     "data": {
      "text/plain": [
       "['pickle.sav']"
      ]
     },
     "execution_count": 47,
     "metadata": {},
     "output_type": "execute_result"
    }
   ],
   "source": [
    "joblib.dump(grid.best_estimator_,'pickle.sav')"
   ]
  },
  {
   "cell_type": "code",
   "execution_count": 99,
   "metadata": {},
   "outputs": [],
   "source": [
    "import pandas as pd\n",
    "import joblib\n",
    "from datetime import datetime\n",
    "from sklearn.ensemble import RandomForestClassifier\n",
    "from sklearn.model_selection import GridSearchCV \n",
    "from sklearn.pipeline import Pipeline\n",
    "\n",
    "class retrain():\n",
    "    def __init__(self, data):\n",
    "        self.x = data[['sepal_length', 'sepal_width', 'petal_length', 'petal_width']]\n",
    "        self.y = data['species']\n",
    "        #TODO: colocar a conexão com o db para ter os dados\n",
    "        \n",
    "    def train(self):\n",
    "        \n",
    "        pipeline = Pipeline([\n",
    "        ('randomforestclassifier', RandomForestClassifier())])\n",
    "\n",
    "        params = {\n",
    "                'randomforestclassifier__criterion': [\"gini\",\"entropy\"]\n",
    "                ,'randomforestclassifier__max_features':['auto', 'sqrt', 'log2']\n",
    "                ,'randomforestclassifier__max_depth': [None, 8, 9,10, 20, 30 ] \n",
    "                ,'randomforestclassifier__min_samples_leaf': [None,3, 5,10 ]\n",
    "                ,'randomforestclassifier__n_estimators':[20,60,70,80, 100, 120]\n",
    "                ,'randomforestclassifier__random_state':[42]}\n",
    "\n",
    "        grid = GridSearchCV(estimator=pipeline\n",
    "                            ,param_grid=params\n",
    "                            ,n_jobs=-1\n",
    "                            ,scoring='accuracy')\n",
    "        self.grid=grid.fit(self.x,self.y)\n",
    "        return 'trained'\n",
    "    \n",
    "    def save_params(self, model_name='randomforestclassifier'):\n",
    "        \n",
    "        params_dict = self.grid.best_params_\n",
    "        params_dict['best_score_']= self.grid.best_score_\n",
    "        params_dict['dtime']= datetime.today().strftime(\"%d-%m-%Y\")\n",
    "        params_dict['model']= model_name\n",
    "        \n",
    "        try:\n",
    "        # Acho que aqui faz sentido usar um MongoDB da vida para colocaar todos os hiper parâmetros. Dado que há N tipos de schemas para N tipos de modelos\n",
    "        import boto3\n",
    "\n",
    "        dynamodb = boto3.resource('dynamodb', endpoint_url=\"http://localhost:8005\",region_name='us-west-2')\n",
    "        table = dynamodb.Table('params')\n",
    "        response = table.put_item(\n",
    "        Item={\n",
    "                'model': 'randomforestclassifier'\n",
    "                ,'criterion': self.grid.best_params_['randomforestclassifier__criterion'] \n",
    "                ,'max_depth':self.grid.best_params_['randomforestclassifier__max_depth']\n",
    "                ,'max_features':self.grid.best_params_['randomforestclassifier__max_features']\n",
    "                ,'min_samples_leaf':self.grid.best_params_['randomforestclassifier__min_samples_leaf']\n",
    "                ,'n_estimators': self.grid.best_params_['randomforestclassifier__n_estimators']\n",
    "                ,'score': str(self.grid.best_score_)\n",
    "                ,'dtime': datetime.today().strftime(\"%d-%m-%Y\")\n",
    "            })\n",
    "                \n",
    "        except Exception as err:\n",
    "            print(err)\n",
    "            print('a imagem docker do Dynamo está rodando?')\n",
    "            \n",
    "        return 'saved'\n",
    "    \n",
    "    def save_model(self, file_name='teste.sav'):\n",
    "        joblib.dump(self.grid.best_estimator_,file_name)\n",
    "        return 'model_created'\n",
    "    \n",
    "if __name__ == '__main__':\n",
    "\n",
    "    iris =pd.read_csv(\"iris.csv\", header=None)\n",
    "    iris.columns=['sepal_length','sepal_width','petal_length','petal_width','species']\n",
    "    \n",
    "    train = retrain(iris)\n",
    "    train.train()\n",
    "    train.save_params()\n",
    "    train.save_model()\n",
    "    \n",
    "    print('done')"
   ]
  },
  {
   "cell_type": "code",
   "execution_count": 100,
   "metadata": {},
   "outputs": [],
   "source": [
    "iris =pd.read_csv(\"iris.csv\", header=None)\n",
    "iris.columns=['sepal_length','sepal_width','petal_length','petal_width','species']\n",
    "\n",
    "a = retrain(iris)"
   ]
  },
  {
   "cell_type": "code",
   "execution_count": 101,
   "metadata": {},
   "outputs": [
    {
     "data": {
      "text/plain": [
       "'trained'"
      ]
     },
     "execution_count": 101,
     "metadata": {},
     "output_type": "execute_result"
    }
   ],
   "source": [
    "a.train()"
   ]
  },
  {
   "cell_type": "code",
   "execution_count": 70,
   "metadata": {},
   "outputs": [],
   "source": [
    "a.save()"
   ]
  },
  {
   "cell_type": "code",
   "execution_count": 113,
   "metadata": {},
   "outputs": [
    {
     "data": {
      "text/plain": [
       "{'randomforestclassifier__criterion': 'entropy',\n",
       " 'randomforestclassifier__max_depth': 20,\n",
       " 'randomforestclassifier__max_features': 'log2',\n",
       " 'randomforestclassifier__min_samples_leaf': 5,\n",
       " 'randomforestclassifier__n_estimators': 20,\n",
       " 'best_score_': 0.9733333333333334,\n",
       " 'dtime': '13-12-2020',\n",
       " 'model': 'randomforestclassifier'}"
      ]
     },
     "execution_count": 113,
     "metadata": {},
     "output_type": "execute_result"
    }
   ],
   "source": [
    "grid.best_params_\n"
   ]
  },
  {
   "cell_type": "code",
   "execution_count": 120,
   "metadata": {},
   "outputs": [],
   "source": [
    "import boto3\n",
    "\n",
    "dynamodb = boto3.resource('dynamodb', endpoint_url=\"http://localhost:8005\",region_name='us-west-2')\n",
    "table = dynamodb.Table('params')\n",
    "response = table.put_item(\n",
    "Item={\n",
    "        'model': 'randomforestclassifier'\n",
    "        ,'criterion': grid.best_params_['randomforestclassifier__criterion'] \n",
    "        ,'max_depth':grid.best_params_['randomforestclassifier__max_depth']\n",
    "        ,'max_features':grid.best_params_['randomforestclassifier__max_features']\n",
    "        ,'min_samples_leaf':grid.best_params_['randomforestclassifier__min_samples_leaf']\n",
    "        ,'n_estimators': grid.best_params_['randomforestclassifier__n_estimators']\n",
    "        ,'score': str(grid.best_score_)\n",
    "        ,'dtime': datetime.today().strftime(\"%d-%m-%Y\")\n",
    "    })"
   ]
  }
 ],
 "metadata": {
  "kernelspec": {
   "display_name": "Python 3",
   "language": "python",
   "name": "python3"
  },
  "language_info": {
   "codemirror_mode": {
    "name": "ipython",
    "version": 3
   },
   "file_extension": ".py",
   "mimetype": "text/x-python",
   "name": "python",
   "nbconvert_exporter": "python",
   "pygments_lexer": "ipython3",
   "version": "3.8.5"
  }
 },
 "nbformat": 4,
 "nbformat_minor": 4
}
