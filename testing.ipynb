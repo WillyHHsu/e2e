{
 "cells": [
  {
   "cell_type": "code",
   "execution_count": 1,
   "metadata": {},
   "outputs": [],
   "source": [
    "import requests\n",
    "import json   \n",
    "import pickle\n",
    "import numpy as np\n",
    "\n",
    "model=pickle.load(open('small_model/pickle.sav', 'rb'))"
   ]
  },
  {
   "cell_type": "code",
   "execution_count": 14,
   "metadata": {},
   "outputs": [
    {
     "data": {
      "text/plain": [
       "'{\"label\":\"Iris-setosa\"}'"
      ]
     },
     "execution_count": 14,
     "metadata": {},
     "output_type": "execute_result"
    }
   ],
   "source": [
    "data= {'sepal_length':4.6\n",
    "         , 'sepal_width':2\n",
    "         , 'petal_length':1.2 \n",
    "         , 'petal_width':1.2}\n",
    "    \n",
    "\n",
    "json_object= data\n",
    "\n",
    "requests.post(\"http://0.0.0.0:8002/predict/\", data=json_object).text"
   ]
  },
  {
   "cell_type": "code",
   "execution_count": null,
   "metadata": {},
   "outputs": [],
   "source": []
  },
  {
   "cell_type": "code",
   "execution_count": 1,
   "metadata": {},
   "outputs": [
    {
     "name": "stdout",
     "output_type": "stream",
     "text": [
      "\u001b[1m============================= test session starts ==============================\u001b[0m\n",
      "platform linux -- Python 3.8.5, pytest-6.1.2, py-1.9.0, pluggy-0.13.1\n",
      "rootdir: /home/villy/Desktop/git/e2e/e2e\n",
      "collected 4 items                                                              \u001b[0m\u001b[1m\n",
      "\n",
      "test.py \u001b[32m.\u001b[0m\u001b[32m.\u001b[0m\u001b[32m.\u001b[0m\u001b[32m.\u001b[0m\u001b[33m                                                             [100%]\u001b[0m\n",
      "\n",
      "\u001b[33m=============================== warnings summary ===============================\u001b[0m\n",
      "../../../../.local/lib/python3.8/site-packages/aiofiles/os.py:10\n",
      "../../../../.local/lib/python3.8/site-packages/aiofiles/os.py:10\n",
      "../../../../.local/lib/python3.8/site-packages/aiofiles/os.py:10\n",
      "../../../../.local/lib/python3.8/site-packages/aiofiles/os.py:10\n",
      "../../../../.local/lib/python3.8/site-packages/aiofiles/os.py:10\n",
      "../../../../.local/lib/python3.8/site-packages/aiofiles/os.py:10\n",
      "  /home/villy/.local/lib/python3.8/site-packages/aiofiles/os.py:10: DeprecationWarning: \"@coroutine\" decorator is deprecated since Python 3.8, use \"async def\" instead\n",
      "    def run(*args, loop=None, executor=None, **kwargs):\n",
      "\n",
      "-- Docs: https://docs.pytest.org/en/stable/warnings.html\n",
      "\u001b[33m======================== \u001b[32m4 passed\u001b[0m, \u001b[33m\u001b[1m6 warnings\u001b[0m\u001b[33m in 0.60s\u001b[0m\u001b[33m =========================\u001b[0m\n"
     ]
    }
   ],
   "source": [
    "\n",
    "!pytest test.py"
   ]
  }
 ],
 "metadata": {
  "kernelspec": {
   "display_name": "Python 3",
   "language": "python",
   "name": "python3"
  },
  "language_info": {
   "codemirror_mode": {
    "name": "ipython",
    "version": 3
   },
   "file_extension": ".py",
   "mimetype": "text/x-python",
   "name": "python",
   "nbconvert_exporter": "python",
   "pygments_lexer": "ipython3",
   "version": "3.8.5"
  }
 },
 "nbformat": 4,
 "nbformat_minor": 4
}
