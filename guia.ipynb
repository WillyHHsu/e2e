{
 "cells": [
  {
   "cell_type": "code",
   "execution_count": 2,
   "metadata": {},
   "outputs": [],
   "source": [
    "import requests\n",
    "import json   \n",
    "import pickle\n",
    "import numpy as np\n",
    "\n"
   ]
  },
  {
   "cell_type": "markdown",
   "metadata": {},
   "source": [
    "<h2>1.Testando a API"
   ]
  },
  {
   "cell_type": "markdown",
   "metadata": {},
   "source": [
    "<h4>testando o código"
   ]
  },
  {
   "cell_type": "code",
   "execution_count": 26,
   "metadata": {},
   "outputs": [
    {
     "name": "stdout",
     "output_type": "stream",
     "text": [
      "\u001b[1m============================= test session starts ==============================\u001b[0m\n",
      "platform linux -- Python 3.8.5, pytest-6.1.2, py-1.9.0, pluggy-0.13.1\n",
      "rootdir: /home/villy/Desktop/git/e2e/e2e\n",
      "collected 4 items                                                              \u001b[0m\u001b[1m\n",
      "\n",
      "test.py \u001b[32m.\u001b[0m\u001b[32m.\u001b[0m\u001b[32m.\u001b[0m\u001b[32m.\u001b[0m\u001b[33m                                                             [100%]\u001b[0m\n",
      "\n",
      "\u001b[33m=============================== warnings summary ===============================\u001b[0m\n",
      "../../../../.local/lib/python3.8/site-packages/aiofiles/os.py:10\n",
      "../../../../.local/lib/python3.8/site-packages/aiofiles/os.py:10\n",
      "../../../../.local/lib/python3.8/site-packages/aiofiles/os.py:10\n",
      "../../../../.local/lib/python3.8/site-packages/aiofiles/os.py:10\n",
      "../../../../.local/lib/python3.8/site-packages/aiofiles/os.py:10\n",
      "../../../../.local/lib/python3.8/site-packages/aiofiles/os.py:10\n",
      "  /home/villy/.local/lib/python3.8/site-packages/aiofiles/os.py:10: DeprecationWarning: \"@coroutine\" decorator is deprecated since Python 3.8, use \"async def\" instead\n",
      "    def run(*args, loop=None, executor=None, **kwargs):\n",
      "\n",
      "-- Docs: https://docs.pytest.org/en/stable/warnings.html\n",
      "\u001b[33m======================== \u001b[32m4 passed\u001b[0m, \u001b[33m\u001b[1m6 warnings\u001b[0m\u001b[33m in 0.61s\u001b[0m\u001b[33m =========================\u001b[0m\n"
     ]
    }
   ],
   "source": [
    "!pytest test.py"
   ]
  },
  {
   "cell_type": "markdown",
   "metadata": {},
   "source": [
    "<h4>Dockerizando"
   ]
  },
  {
   "cell_type": "code",
   "execution_count": 19,
   "metadata": {
    "collapsed": true
   },
   "outputs": [
    {
     "name": "stdout",
     "output_type": "stream",
     "text": [
      "Sending build context to Docker daemon  332.3MB\n",
      "Step 1/6 : FROM python:3.6\n",
      " ---> bda27a013ab2\n",
      "Step 2/6 : RUN python -m pip install --upgrade pip\n",
      " ---> Using cache\n",
      " ---> dd29134bca54\n",
      "Step 3/6 : COPY . .\n",
      " ---> 8093ea3090cc\n",
      "Step 4/6 : RUN pip3 install -r requirements.txt\n",
      " ---> Running in 886e1031d7a3\n",
      "Collecting boto3==1.16.34\n",
      "  Downloading boto3-1.16.34-py2.py3-none-any.whl (129 kB)\n",
      "Collecting botocore==1.19.34\n",
      "  Downloading botocore-1.19.34-py2.py3-none-any.whl (7.0 MB)\n",
      "Collecting click==7.1.2\n",
      "  Downloading click-7.1.2-py2.py3-none-any.whl (82 kB)\n",
      "Collecting fastapi==0.62.0\n",
      "  Downloading fastapi-0.62.0-py3-none-any.whl (49 kB)\n",
      "Collecting h11==0.11.0\n",
      "  Downloading h11-0.11.0-py2.py3-none-any.whl (54 kB)\n",
      "Collecting jmespath==0.10.0\n",
      "  Downloading jmespath-0.10.0-py2.py3-none-any.whl (24 kB)\n",
      "Collecting joblib==0.17.0\n",
      "  Downloading joblib-0.17.0-py3-none-any.whl (301 kB)\n",
      "Collecting numpy==1.19.4\n",
      "  Downloading numpy-1.19.4-cp36-cp36m-manylinux2010_x86_64.whl (14.5 MB)\n",
      "Collecting pydantic==1.7.3\n",
      "  Downloading pydantic-1.7.3-cp36-cp36m-manylinux2014_x86_64.whl (9.2 MB)\n",
      "Collecting python-dateutil==2.8.1\n",
      "  Downloading python_dateutil-2.8.1-py2.py3-none-any.whl (227 kB)\n",
      "Collecting s3transfer==0.3.3\n",
      "  Downloading s3transfer-0.3.3-py2.py3-none-any.whl (69 kB)\n",
      "Collecting scikit-learn==0.23.2\n",
      "  Downloading scikit_learn-0.23.2-cp36-cp36m-manylinux1_x86_64.whl (6.8 MB)\n",
      "Collecting scipy==1.5.4\n",
      "  Downloading scipy-1.5.4-cp36-cp36m-manylinux1_x86_64.whl (25.9 MB)\n",
      "Collecting six==1.15.0\n",
      "  Downloading six-1.15.0-py2.py3-none-any.whl (10 kB)\n",
      "Collecting sklearn==0.0\n",
      "  Downloading sklearn-0.0.tar.gz (1.1 kB)\n",
      "Collecting starlette==0.13.6\n",
      "  Downloading starlette-0.13.6-py3-none-any.whl (59 kB)\n",
      "Collecting threadpoolctl==2.1.0\n",
      "  Downloading threadpoolctl-2.1.0-py3-none-any.whl (12 kB)\n",
      "Collecting urllib3==1.26.2\n",
      "  Downloading urllib3-1.26.2-py2.py3-none-any.whl (136 kB)\n",
      "Collecting uvicorn==0.13.0\n",
      "  Downloading uvicorn-0.13.0-py3-none-any.whl (45 kB)\n",
      "Collecting dataclasses>=0.6\n",
      "  Downloading dataclasses-0.8-py3-none-any.whl (19 kB)\n",
      "Collecting typing-extensions\n",
      "  Downloading typing_extensions-3.7.4.3-py3-none-any.whl (22 kB)\n",
      "Building wheels for collected packages: sklearn\n",
      "  Building wheel for sklearn (setup.py): started\n",
      "  Building wheel for sklearn (setup.py): finished with status 'done'\n",
      "  Created wheel for sklearn: filename=sklearn-0.0-py2.py3-none-any.whl size=1315 sha256=5c620092b271fadf18632d29efab7cb1657657451de93e8ed80f091fb0c06318\n",
      "  Stored in directory: /root/.cache/pip/wheels/23/9d/42/5ec745cbbb17517000a53cecc49d6a865450d1f5cb16dc8a9c\n",
      "Successfully built sklearn\n",
      "Installing collected packages: six, urllib3, python-dateutil, numpy, jmespath, threadpoolctl, scipy, joblib, dataclasses, botocore, typing-extensions, starlette, scikit-learn, s3transfer, pydantic, h11, click, uvicorn, sklearn, fastapi, boto3\n",
      "Successfully installed boto3-1.16.34 botocore-1.19.34 click-7.1.2 dataclasses-0.8 fastapi-0.62.0 h11-0.11.0 jmespath-0.10.0 joblib-0.17.0 numpy-1.19.4 pydantic-1.7.3 python-dateutil-2.8.1 s3transfer-0.3.3 scikit-learn-0.23.2 scipy-1.5.4 six-1.15.0 sklearn-0.0 starlette-0.13.6 threadpoolctl-2.1.0 typing-extensions-3.7.4.3 urllib3-1.26.2 uvicorn-0.13.0\n",
      "Removing intermediate container 886e1031d7a3\n",
      " ---> 5bc10f8c58fd\n",
      "Step 5/6 : EXPOSE 8010\n",
      " ---> Running in c06d15025be3\n",
      "Removing intermediate container c06d15025be3\n",
      " ---> c607ba3cbccd\n",
      "Step 6/6 : CMD [\"uvicorn\", \"main:app\", \"--host\", \"0.0.0.0\", \"--port\", \"8010\"]\n",
      " ---> Running in 6c45ec69471f\n",
      "Removing intermediate container 6c45ec69471f\n",
      " ---> 7e47b2dee500\n",
      "Successfully built 7e47b2dee500\n",
      "Successfully tagged ifood:ifoodtag\n"
     ]
    }
   ],
   "source": [
    "#buildando a imagem\n",
    "!docker build -t ifood:ifoodtag ."
   ]
  },
  {
   "cell_type": "code",
   "execution_count": 24,
   "metadata": {},
   "outputs": [
    {
     "name": "stdout",
     "output_type": "stream",
     "text": [
      "b4279ba0b3232b364f654cd6d2f05f61b8fbc9f78f7dfbd9b62977c5dce9aa30\r\n"
     ]
    }
   ],
   "source": [
    "#rodando a imagem \n",
    "!docker run -d --name IfoodContainer -p 8010:8010 ifood:ifoodtag "
   ]
  },
  {
   "cell_type": "markdown",
   "metadata": {},
   "source": [
    "<h4>Testando a chamada"
   ]
  },
  {
   "cell_type": "code",
   "execution_count": 25,
   "metadata": {},
   "outputs": [
    {
     "data": {
      "text/plain": [
       "'{\"label\":\"Iris-setosa\"}'"
      ]
     },
     "execution_count": 25,
     "metadata": {},
     "output_type": "execute_result"
    }
   ],
   "source": [
    "data= {'sepal_length':4.6\n",
    "         ,'sepal_width':2\n",
    "         ,'petal_length':1.2 \n",
    "         ,'petal_width':1.2}\n",
    "    \n",
    "\n",
    "json_object= json.dumps(data)\n",
    "\n",
    "requests.post(\"http://0.0.0.0:8010/predict/\", data=json_object).text"
   ]
  },
  {
   "cell_type": "markdown",
   "metadata": {},
   "source": [
    "<h4> Olhando a documentação"
   ]
  },
  {
   "cell_type": "markdown",
   "metadata": {},
   "source": [
    "http://0.0.0.0:8010/docs"
   ]
  },
  {
   "cell_type": "code",
   "execution_count": 29,
   "metadata": {},
   "outputs": [
    {
     "name": "stdout",
     "output_type": "stream",
     "text": [
      "IfoodContainer\r\n"
     ]
    }
   ],
   "source": [
    "#stoppando\n",
    "!docker stop IfoodContainer"
   ]
  },
  {
   "cell_type": "markdown",
   "metadata": {},
   "source": [
    "<h1>2.Retreino"
   ]
  },
  {
   "cell_type": "code",
   "execution_count": null,
   "metadata": {},
   "outputs": [],
   "source": []
  },
  {
   "cell_type": "code",
   "execution_count": null,
   "metadata": {},
   "outputs": [],
   "source": []
  },
  {
   "cell_type": "markdown",
   "metadata": {},
   "source": [
    "<h1> 3.Arquitetura"
   ]
  },
  {
   "cell_type": "markdown",
   "metadata": {},
   "source": [
    "![title](infra/Arquitetura.png)\n"
   ]
  }
 ],
 "metadata": {
  "kernelspec": {
   "display_name": "Python 3",
   "language": "python",
   "name": "python3"
  },
  "language_info": {
   "codemirror_mode": {
    "name": "ipython",
    "version": 3
   },
   "file_extension": ".py",
   "mimetype": "text/x-python",
   "name": "python",
   "nbconvert_exporter": "python",
   "pygments_lexer": "ipython3",
   "version": "3.8.5"
  }
 },
 "nbformat": 4,
 "nbformat_minor": 4
}
